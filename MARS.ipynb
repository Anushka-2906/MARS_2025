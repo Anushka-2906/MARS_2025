{
  "nbformat": 4,
  "nbformat_minor": 0,
  "metadata": {
    "colab": {
      "provenance": [],
      "authorship_tag": "ABX9TyOJMT/FF0kkqDBVqpphel3e",
      "include_colab_link": true
    },
    "kernelspec": {
      "name": "python3",
      "display_name": "Python 3"
    },
    "language_info": {
      "name": "python"
    }
  },
  "cells": [
    {
      "cell_type": "markdown",
      "metadata": {
        "id": "view-in-github",
        "colab_type": "text"
      },
      "source": [
        "<a href=\"https://colab.research.google.com/github/Anushka-2906/MARS_2025/blob/main/MARS.ipynb\" target=\"_parent\"><img src=\"https://colab.research.google.com/assets/colab-badge.svg\" alt=\"Open In Colab\"/></a>"
      ]
    },
    {
      "cell_type": "code",
      "execution_count": 24,
      "metadata": {
        "id": "BZK3a0iXRrgb",
        "colab": {
          "base_uri": "https://localhost:8080/"
        },
        "outputId": "ce5185fa-c967-4757-a50f-e9866007511c"
      },
      "outputs": [
        {
          "output_type": "stream",
          "name": "stdout",
          "text": [
            "Requirement already satisfied: flask in /usr/local/lib/python3.11/dist-packages (3.1.1)\n",
            "Requirement already satisfied: flask-ngrok in /usr/local/lib/python3.11/dist-packages (0.0.25)\n",
            "Requirement already satisfied: python-docx in /usr/local/lib/python3.11/dist-packages (1.2.0)\n",
            "Requirement already satisfied: pytesseract in /usr/local/lib/python3.11/dist-packages (0.3.13)\n",
            "Requirement already satisfied: Pillow in /usr/local/lib/python3.11/dist-packages (11.2.1)\n",
            "Requirement already satisfied: pymupdf in /usr/local/lib/python3.11/dist-packages (1.26.1)\n",
            "Requirement already satisfied: langdetect in /usr/local/lib/python3.11/dist-packages (1.0.9)\n",
            "Requirement already satisfied: blinker>=1.9.0 in /usr/local/lib/python3.11/dist-packages (from flask) (1.9.0)\n",
            "Requirement already satisfied: click>=8.1.3 in /usr/local/lib/python3.11/dist-packages (from flask) (8.2.1)\n",
            "Requirement already satisfied: itsdangerous>=2.2.0 in /usr/local/lib/python3.11/dist-packages (from flask) (2.2.0)\n",
            "Requirement already satisfied: jinja2>=3.1.2 in /usr/local/lib/python3.11/dist-packages (from flask) (3.1.6)\n",
            "Requirement already satisfied: markupsafe>=2.1.1 in /usr/local/lib/python3.11/dist-packages (from flask) (3.0.2)\n",
            "Requirement already satisfied: werkzeug>=3.1.0 in /usr/local/lib/python3.11/dist-packages (from flask) (3.1.3)\n",
            "Requirement already satisfied: requests in /usr/local/lib/python3.11/dist-packages (from flask-ngrok) (2.32.3)\n",
            "Requirement already satisfied: lxml>=3.1.0 in /usr/local/lib/python3.11/dist-packages (from python-docx) (5.4.0)\n",
            "Requirement already satisfied: typing_extensions>=4.9.0 in /usr/local/lib/python3.11/dist-packages (from python-docx) (4.14.0)\n",
            "Requirement already satisfied: packaging>=21.3 in /usr/local/lib/python3.11/dist-packages (from pytesseract) (24.2)\n",
            "Requirement already satisfied: six in /usr/local/lib/python3.11/dist-packages (from langdetect) (1.17.0)\n",
            "Requirement already satisfied: charset-normalizer<4,>=2 in /usr/local/lib/python3.11/dist-packages (from requests->flask-ngrok) (3.4.2)\n",
            "Requirement already satisfied: idna<4,>=2.5 in /usr/local/lib/python3.11/dist-packages (from requests->flask-ngrok) (3.10)\n",
            "Requirement already satisfied: urllib3<3,>=1.21.1 in /usr/local/lib/python3.11/dist-packages (from requests->flask-ngrok) (2.4.0)\n",
            "Requirement already satisfied: certifi>=2017.4.17 in /usr/local/lib/python3.11/dist-packages (from requests->flask-ngrok) (2025.6.15)\n",
            "Reading package lists... Done\n",
            "Building dependency tree... Done\n",
            "Reading state information... Done\n",
            "tesseract-ocr is already the newest version (4.1.1-2.1build1).\n",
            "0 upgraded, 0 newly installed, 0 to remove and 35 not upgraded.\n"
          ]
        }
      ],
      "source": [
        "!pip install flask flask-ngrok python-docx pytesseract Pillow pymupdf langdetect\n",
        "!apt install tesseract-ocr -y\n"
      ]
    },
    {
      "cell_type": "code",
      "source": [
        "import os\n",
        "import fitz  # PyMuPDF for PDFs\n",
        "import docx\n",
        "import pytesseract\n",
        "from PIL import Image, ImageOps, ImageEnhance, ImageFilter\n",
        "from werkzeug.utils import secure_filename\n",
        "from flask import Flask, request, render_template, jsonify, send_file\n",
        "import re\n",
        "from langdetect import detect, DetectorFactory\n",
        "from datetime import datetime\n",
        "import mimetypes\n",
        "from collections import Counter\n",
        "import json"
      ],
      "metadata": {
        "id": "EB1n036DRuTn"
      },
      "execution_count": 2,
      "outputs": []
    },
    {
      "cell_type": "code",
      "source": [
        "DetectorFactory.seed = 0"
      ],
      "metadata": {
        "id": "mx9VDSVLRuWp"
      },
      "execution_count": 3,
      "outputs": []
    },
    {
      "cell_type": "code",
      "source": [
        "pytesseract.pytesseract.tesseract_cmd = r\"C:\\\\Program Files\\\\Tesseract-OCR\\\\tesseract.exe\""
      ],
      "metadata": {
        "id": "Kr-CKCimRuZn"
      },
      "execution_count": 4,
      "outputs": []
    },
    {
      "cell_type": "code",
      "source": [
        "app = Flask(__name__)\n",
        "UPLOAD_FOLDER = 'uploads'\n",
        "OUTPUT_FOLDER = 'output'\n",
        "os.makedirs(UPLOAD_FOLDER, exist_ok=True)\n",
        "os.makedirs(OUTPUT_FOLDER, exist_ok=True)\n",
        "app.config['UPLOAD_FOLDER'] = UPLOAD_FOLDER\n",
        "app.config['OUTPUT_FOLDER'] = OUTPUT_FOLDER"
      ],
      "metadata": {
        "id": "LZEWo-2FRucZ"
      },
      "execution_count": 5,
      "outputs": []
    },
    {
      "cell_type": "code",
      "source": [
        "# Utility: Clean text"
      ],
      "metadata": {
        "id": "TLnvo1piRufS"
      },
      "execution_count": 6,
      "outputs": []
    },
    {
      "cell_type": "code",
      "source": [
        "def clean_text(text):\n",
        "    return re.sub(r'\\s+', ' ', text.strip())"
      ],
      "metadata": {
        "id": "u8m5lOcqRuiP"
      },
      "execution_count": 7,
      "outputs": []
    },
    {
      "cell_type": "code",
      "source": [
        "# Extract text based on file type"
      ],
      "metadata": {
        "id": "7M4Mdn2hRult"
      },
      "execution_count": 8,
      "outputs": []
    },
    {
      "cell_type": "code",
      "source": [
        "def extract_text_pdf(file_path):\n",
        "    text = \"\"\n",
        "    with fitz.open(file_path) as doc:\n",
        "        for page in doc:\n",
        "            text += page.get_text()\n",
        "    return text"
      ],
      "metadata": {
        "id": "Ssm1xUSrR9uU"
      },
      "execution_count": 9,
      "outputs": []
    },
    {
      "cell_type": "code",
      "source": [
        "def extract_text_docx(file_path):\n",
        "    doc = docx.Document(file_path)\n",
        "    return \"\\n\".join([para.text for para in doc.paragraphs])"
      ],
      "metadata": {
        "id": "5dseqGZaR9w8"
      },
      "execution_count": 10,
      "outputs": []
    },
    {
      "cell_type": "code",
      "source": [
        "def extract_text_txt(file_path):\n",
        "    with open(file_path, 'r', encoding='utf-8') as file:\n",
        "        return file.read()"
      ],
      "metadata": {
        "id": "6ZvDrvv6R9zg"
      },
      "execution_count": 11,
      "outputs": []
    },
    {
      "cell_type": "code",
      "source": [
        "def extract_text_image(file_path):\n",
        "    image = Image.open(file_path)\n",
        "    image = image.resize((image.width * 2, image.height * 2), Image.LANCZOS)\n",
        "    gray = ImageOps.grayscale(image)\n",
        "    sharp = gray.filter(ImageFilter.SHARPEN)\n",
        "    contrast = ImageEnhance.Contrast(sharp).enhance(3)\n",
        "    return pytesseract.image_to_string(contrast, config='--psm 4')"
      ],
      "metadata": {
        "id": "VwANshZ2R92P"
      },
      "execution_count": 12,
      "outputs": []
    },
    {
      "cell_type": "code",
      "source": [
        "# Semantic content: enhanced for image-based inputs"
      ],
      "metadata": {
        "id": "5VK7JnKvR944"
      },
      "execution_count": 13,
      "outputs": []
    },
    {
      "cell_type": "code",
      "source": [
        "def extract_semantic_content(text):\n",
        "    lines = text.split('\\n')\n",
        "    clean_lines = [line.strip() for line in lines if line.strip()]\n",
        "    if len(clean_lines) == 0:\n",
        "        return \"\"\n",
        "    elif len(clean_lines) == 1:\n",
        "        return clean_lines[0]\n",
        "    elif len(clean_lines) == 2:\n",
        "        return clean_lines[0] + \" \" + clean_lines[1]\n",
        "    else:\n",
        "        return \" \".join(clean_lines[:min(6, len(clean_lines))])"
      ],
      "metadata": {
        "id": "WadzUq5DR97d"
      },
      "execution_count": 14,
      "outputs": []
    },
    {
      "cell_type": "code",
      "source": [
        "# Keyword extractor (frequency-based)"
      ],
      "metadata": {
        "id": "uwuMcl0gR9-V"
      },
      "execution_count": 15,
      "outputs": []
    },
    {
      "cell_type": "code",
      "source": [
        "def extract_keywords(text, top_n=10):\n",
        "    words = re.findall(r'\\b[a-zA-Z]{5,}\\b', text.lower())\n",
        "    freq = Counter(words)\n",
        "    return [word for word, _ in freq.most_common(top_n)]"
      ],
      "metadata": {
        "id": "BnbsL2uSR-Bv"
      },
      "execution_count": 16,
      "outputs": []
    },
    {
      "cell_type": "code",
      "source": [
        "# Metadata Generator"
      ],
      "metadata": {
        "id": "EADGb8bdSPUK"
      },
      "execution_count": 17,
      "outputs": []
    },
    {
      "cell_type": "code",
      "source": [
        "def generate_metadata(text, filename):\n",
        "    lines = text.split('\\n')\n",
        "    clean_lines = [line.strip() for line in lines if line.strip()]\n",
        "    title = clean_lines[0] if clean_lines else \"Untitled\"\n",
        "    word_count = len(re.findall(r'\\w+', text))\n",
        "    keywords = extract_keywords(text)\n",
        "    semantic_summary = extract_semantic_content(text)\n",
        "    try:\n",
        "        language = detect(text) if len(text) > 20 else \"unknown\"\n",
        "    except:\n",
        "        language = \"unknown\"\n",
        "    created_time = datetime.now().isoformat()\n",
        "    file_type, _ = mimetypes.guess_type(filename)"
      ],
      "metadata": {
        "id": "pFewhde1SPWz"
      },
      "execution_count": 18,
      "outputs": []
    },
    {
      "cell_type": "code",
      "source": [
        "import os\n",
        "import mimetypes\n",
        "import re\n",
        "from datetime import datetime\n",
        "from langdetect import detect\n",
        "\n",
        "def generate_metadata(text, filename):\n",
        "    lines = text.split('\\n')\n",
        "    clean_lines = [line.strip() for line in lines if line.strip()]\n",
        "    title = clean_lines[0] if clean_lines else \"Untitled\"\n",
        "    word_count = len(re.findall(r'\\w+', text))\n",
        "    keywords = extract_keywords(text)\n",
        "    semantic_summary = extract_semantic_content(text)\n",
        "\n",
        "    try:\n",
        "        language = detect(text) if len(text) > 20 else \"unknown\"\n",
        "    except:\n",
        "        language = \"unknown\"\n",
        "\n",
        "    created_time = datetime.now().isoformat()\n",
        "    file_type, _ = mimetypes.guess_type(filename)\n",
        "\n",
        "    metadata = {\n",
        "        \"filename\": filename,\n",
        "        \"title\": title[:100],\n",
        "        \"word_count\": word_count,\n",
        "        \"keywords\": keywords,\n",
        "        \"summary\": semantic_summary,\n",
        "        \"language\": language,\n",
        "        \"created_time\": created_time,\n",
        "        \"file_type\": file_type or \"unknown\"\n",
        "    }\n",
        "\n",
        "    return metadata\n"
      ],
      "metadata": {
        "id": "DVfj9z7YSPZg"
      },
      "execution_count": 30,
      "outputs": []
    },
    {
      "cell_type": "code",
      "source": [
        "@app.route('/', methods=['GET'])\n",
        "def home():\n",
        "    return render_template('index.html')\n"
      ],
      "metadata": {
        "id": "t1YVB0KcSPcC"
      },
      "execution_count": 32,
      "outputs": []
    },
    {
      "cell_type": "code",
      "source": [
        "@app.route('/', methods=['POST'])\n",
        "def upload_file_2():\n",
        "    file = request.files['file']\n",
        "    if file:\n",
        "        filename = secure_filename(file.filename)\n",
        "        file_path = os.path.join(app.config['UPLOAD_FOLDER'], filename)\n",
        "        file.save(file_path)\n",
        "        return \"File uploaded successfully\"\n"
      ],
      "metadata": {
        "id": "MXXBQG8bSPe6"
      },
      "execution_count": 37,
      "outputs": []
    },
    {
      "cell_type": "code",
      "source": [
        "@app.route('/', methods=['POST'])\n",
        "def upload_file_v2():\n",
        "    file = request.files['file']\n",
        "    if file:\n",
        "        filename = secure_filename(file.filename)\n",
        "        file_path = os.path.join(app.config['UPLOAD_FOLDER'], filename)\n",
        "        file.save(file_path)\n",
        "\n",
        "        ext = filename.lower().split('.')[-1]\n",
        "        if ext == 'pdf':\n",
        "            text = extract_text_pdf(file_path)\n",
        "        elif ext == 'docx':\n",
        "            text = extract_text_docx(file_path)\n",
        "        elif ext == 'txt':\n",
        "            text = extract_text_txt(file_path)\n",
        "        elif ext in ['png', 'jpg', 'jpeg']:\n",
        "            text = extract_text_image(file_path)\n",
        "        else:\n",
        "            return \"Unsupported file type.\"\n",
        "\n",
        "        metadata = generate_metadata(text, filename)\n",
        "        return jsonify(metadata)\n"
      ],
      "metadata": {
        "id": "TMV4gmrISPhe"
      },
      "execution_count": 39,
      "outputs": []
    },
    {
      "cell_type": "code",
      "source": [
        "text = \"This is a sample document about data structures and memory management.\"\n",
        "filename = \"sample.txt\"\n",
        "\n",
        "metadata = generate_metadata(text, filename)\n",
        "print(metadata)\n"
      ],
      "metadata": {
        "id": "mZvXJUVGSPlH",
        "colab": {
          "base_uri": "https://localhost:8080/"
        },
        "outputId": "070bc016-da28-4cb7-9013-8b739374e1a0"
      },
      "execution_count": 40,
      "outputs": [
        {
          "output_type": "stream",
          "name": "stdout",
          "text": [
            "{'filename': 'sample.txt', 'title': 'This is a sample document about data structures and memory management.', 'word_count': 11, 'keywords': ['sample', 'document', 'about', 'structures', 'memory', 'management'], 'summary': 'This is a sample document about data structures and memory management.', 'language': 'en', 'created_time': '2025-06-22T11:30:47.190682', 'file_type': 'text/plain'}\n"
          ]
        }
      ]
    },
    {
      "cell_type": "code",
      "source": [
        "def save_metadata(filename, metadata):\n",
        "    output_path = os.path.join(app.config['OUTPUT_FOLDER'], filename + '_metadata.json')\n",
        "    with open(output_path, 'w', encoding='utf-8') as out_file:\n",
        "        json.dump(metadata, out_file, indent=4)\n"
      ],
      "metadata": {
        "id": "gSHgiMmKShLb"
      },
      "execution_count": 41,
      "outputs": []
    },
    {
      "cell_type": "code",
      "source": [
        "import json\n",
        "print(json.dumps(metadata, indent=4))\n"
      ],
      "metadata": {
        "id": "JbbfQFSQShOH",
        "colab": {
          "base_uri": "https://localhost:8080/"
        },
        "outputId": "1e9a9efb-eb27-4a53-e233-1609894f17c5"
      },
      "execution_count": 42,
      "outputs": [
        {
          "output_type": "stream",
          "name": "stdout",
          "text": [
            "{\n",
            "    \"filename\": \"sample.txt\",\n",
            "    \"title\": \"This is a sample document about data structures and memory management.\",\n",
            "    \"word_count\": 11,\n",
            "    \"keywords\": [\n",
            "        \"sample\",\n",
            "        \"document\",\n",
            "        \"about\",\n",
            "        \"structures\",\n",
            "        \"memory\",\n",
            "        \"management\"\n",
            "    ],\n",
            "    \"summary\": \"This is a sample document about data structures and memory management.\",\n",
            "    \"language\": \"en\",\n",
            "    \"created_time\": \"2025-06-22T11:30:47.190682\",\n",
            "    \"file_type\": \"text/plain\"\n",
            "}\n"
          ]
        }
      ]
    },
    {
      "cell_type": "code",
      "source": [
        "@app.route('/download/<filename>')\n",
        "def download_metadata(filename):\n",
        "    filepath = os.path.join(app.config['OUTPUT_FOLDER'], filename + '_metadata.json')\n",
        "    return send_file(filepath, as_attachment=True)"
      ],
      "metadata": {
        "id": "Sx-CzZyfShQu"
      },
      "execution_count": 43,
      "outputs": []
    },
    {
      "cell_type": "code",
      "source": [
        "if __name__ == '__main__':\n",
        "    app.run(debug=True)"
      ],
      "metadata": {
        "colab": {
          "base_uri": "https://localhost:8080/"
        },
        "id": "6pPOWj6ZShTd",
        "outputId": "b196b691-a9bd-4b86-f6ec-5b26b321ad3e"
      },
      "execution_count": null,
      "outputs": [
        {
          "output_type": "stream",
          "name": "stdout",
          "text": [
            " * Serving Flask app '__main__'\n",
            " * Debug mode: on\n"
          ]
        },
        {
          "output_type": "stream",
          "name": "stderr",
          "text": [
            "INFO:werkzeug:\u001b[31m\u001b[1mWARNING: This is a development server. Do not use it in a production deployment. Use a production WSGI server instead.\u001b[0m\n",
            " * Running on http://127.0.0.1:5000\n",
            "INFO:werkzeug:\u001b[33mPress CTRL+C to quit\u001b[0m\n",
            "INFO:werkzeug: * Restarting with stat\n"
          ]
        }
      ]
    }
  ]
}